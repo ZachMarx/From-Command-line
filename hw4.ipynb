{
 "cells": [
  {
   "cell_type": "code",
   "execution_count": 1,
   "metadata": {},
   "outputs": [
    {
     "name": "stdout",
     "output_type": "stream",
     "text": [
      "Dictionary: A collection of key-value pairs.\n",
      "String: A series of Characters\n",
      "Boolean Expression: An Expression that evaluates to True of False\n",
      "Comment: A note in a program that the Python interpreter ignores\n",
      "Value: An item associated with a key in a dictionary\n",
      "Loop: Work through a collection of items, one at a time\n",
      "List: A collection of items in a particular order\n",
      "Key: The first item in a key-value pair in a dictionary\n",
      "Float: A numerical value with a decimal component\n"
     ]
    }
   ],
   "source": [
    "Concept_Definitions = {\n",
    "'Dictionary': 'A collection of key-value pairs.',\n",
    "'String': 'A series of Characters',\n",
    "'Boolean Expression': 'An Expression that evaluates to True of False',\n",
    "'Comment': 'A note in a program that the Python interpreter ignores',\n",
    "'Value': 'An item associated with a key in a dictionary',\n",
    "'Loop': 'Work through a collection of items, one at a time',\n",
    "'List': 'A collection of items in a particular order',\n",
    "'Key': 'The first item in a key-value pair in a dictionary',\n",
    "'Float': 'A numerical value with a decimal component'}\n",
    "for item in Concept_Definitions:\n",
    "        print(item +': ' + Concept_Definitions[item])"
   ]
  },
  {
   "cell_type": "code",
   "execution_count": 2,
   "metadata": {},
   "outputs": [
    {
     "name": "stdout",
     "output_type": "stream",
     "text": [
      "Movies in Common: {'The Departed'}\n",
      "Zach_Unique: {'The Blindside', 'Catch Me if You Can', 'Inglorious Bastards', 'The Big Lebowski'}\n"
     ]
    }
   ],
   "source": [
    "ZFavMovies= {'Inglorious Bastards', 'The Blindside', 'The Departed', 'The Big Lebowski', 'Catch Me if You Can'}\n",
    "JFavMovies= {'Love Actually', 'Batman Dark Knight', 'The Departed', 'Mean Girls'}\n",
    "print('Movies in Common:', ZFavMovies.intersection(JFavMovies))\n",
    "print('Zach_Unique:',ZFavMovies.difference(JFavMovies))"
   ]
  },
  {
   "cell_type": "code",
   "execution_count": 3,
   "metadata": {},
   "outputs": [
    {
     "name": "stdout",
     "output_type": "stream",
     "text": [
      "I Wake Up. I Take Shower. I Eat Breakfast. I Get On Subway. I Go To Work. I Bus Home. I Eat Dinner. Read. Go To Bed.\n"
     ]
    }
   ],
   "source": [
    "DailyRoutine= ('Wake Up', 'Take Shower', 'Eat Breakfast', 'Get On Subway', \n",
    "               'Go To Work', 'Bus Home', 'Eat Dinner', 'Read', 'Go To Bed')\n",
    "print('I', DailyRoutine[0] + '.', 'I', DailyRoutine[1] + '.', 'I', DailyRoutine[2] + '.', 'I', DailyRoutine[3] + '.',\n",
    "     'I', DailyRoutine[4] + '.', 'I', DailyRoutine[5] + '.', 'I', DailyRoutine[6] + '.', DailyRoutine[7] + '.', DailyRoutine[8] + '.')\n"
   ]
  },
  {
   "cell_type": "code",
   "execution_count": null,
   "metadata": {},
   "outputs": [],
   "source": []
  }
 ],
 "metadata": {
  "kernelspec": {
   "display_name": "Python 3",
   "language": "python",
   "name": "python3"
  },
  "language_info": {
   "codemirror_mode": {
    "name": "ipython",
    "version": 3
   },
   "file_extension": ".py",
   "mimetype": "text/x-python",
   "name": "python",
   "nbconvert_exporter": "python",
   "pygments_lexer": "ipython3",
   "version": "3.6.0"
  }
 },
 "nbformat": 4,
 "nbformat_minor": 2
}
